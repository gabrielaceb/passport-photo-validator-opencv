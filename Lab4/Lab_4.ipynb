{
 "cells": [
  {
   "cell_type": "code",
   "execution_count": null,
   "id": "initial_id",
   "metadata": {
    "collapsed": true,
    "is_executing": true
   },
   "outputs": [],
   "source": [
    "import cv2\n",
    "import numpy as np\n",
    "import matplotlib.pyplot as plt"
   ]
  },
  {
   "cell_type": "code",
   "outputs": [],
   "source": [
    "def task1(img):\n",
    "     # blurry image\n",
    "    blur_image = cv2.GaussianBlur(img, (5, 5), 0)\n",
    "\n",
    "    # sharpen image\n",
    "    kernel = np.array([[-1, -1, -1], [-1, 9, -1], [-1, -1, -1]])\n",
    "    sharp_image = cv2.filter2D(img, -1, kernel)\n",
    "\n",
    "    # show bouth images on matplotlib\n",
    "    blur_image_rgb = cv2.cvtColor(blur_image, cv2.COLOR_BGR2RGB)\n",
    "    sharp_image_rgb = cv2.cvtColor(sharp_image, cv2.COLOR_BGR2RGB)\n",
    "\n",
    "    plt.figure(figsize=(20,10))\n",
    "    plt.subplot(1, 2, 1)\n",
    "    plt.imshow(blur_image_rgb)\n",
    "    plt.axis('off')\n",
    "    plt.title(\"Blur Image\")\n",
    "    plt.subplot(1, 2, 2)\n",
    "    plt.imshow(sharp_image_rgb)\n",
    "    plt.axis('off')\n",
    "    plt.title(\"Sharp Image\")\n",
    "    plt.show()\n",
    "\n"
   ],
   "metadata": {
    "collapsed": false
   },
   "id": "ed15397c6906f347"
  },
  {
   "cell_type": "code",
   "outputs": [],
   "source": [
    "def task2(img):\n",
    "    gray_image = cv2.cvtColor(img, cv2.COLOR_BGR2GRAY)\n",
    "\n",
    "    # save grayscale image\n",
    "    cv2.imwrite(\"gray_image.png\", gray_image)\n",
    "\n",
    "    face_classifier = cv2.CascadeClassifier(\n",
    "        cv2.data.haarcascades + \"haarcascade_frontalface_default.xml\"\n",
    "    )\n",
    "    face = face_classifier.detectMultiScale(\n",
    "        gray_image, scaleFactor=1.1, minNeighbors=5, minSize=(40, 40)\n",
    "    )\n",
    "\n",
    "    if face is None:\n",
    "        print(\"No faces found\")\n",
    "    else:\n",
    "        for (x, y, w, h) in face:\n",
    "            cv2.rectangle(img, (x, y), (x + w, y + h), (0, 255, 0), 4)\n",
    "\n",
    "    img_rgb = cv2.cvtColor(img, cv2.COLOR_BGR2RGB)\n",
    "    # cv2.imshow(\"Display window\", img)\n",
    "\n",
    "    return face\n"
   ],
   "metadata": {
    "collapsed": false
   },
   "id": "92f2786cfe927ead"
  },
  {
   "cell_type": "markdown",
   "source": [],
   "metadata": {
    "collapsed": false
   },
   "id": "3b760a7b28c2c8bb"
  },
  {
   "cell_type": "code",
   "outputs": [],
   "source": [
    "def task3(img):\n",
    "    # check if image is color or grayscale\n",
    "    if len(img.shape) == 3:\n",
    "        pass\n",
    "    else:\n",
    "        print(\"Image is grayscale\")\n",
    "        return False\n",
    "\n",
    "    # The photo should be in portrait orientation or square.\n",
    "    if img.shape[0] == img.shape[1]:\n",
    "        # print(\"Image is in portrait orientation\")\n",
    "        pass\n",
    "    else:\n",
    "        print(\"Image is in landscape orientation\")\n",
    "        return False\n",
    "\n",
    "    # TThe photo should contain only one person;\n",
    "    face = task2(img)\n",
    "    if len(face) > 1:\n",
    "        print(\"Image contains more than one person\")\n",
    "        return False\n",
    "\n",
    "\n",
    "    #The head of a person should represent 20% to 50% of the area of the photo.\n",
    "    face_area = face[0][2] * face[0][3]\n",
    "    img_area = img.shape[0] * img.shape[1]\n",
    "    ratio = face_area / img_area\n",
    "    if ratio >= 0.2 and ratio <= 0.5:\n",
    "        # print(\"Head of a person represents 20% to 50% of the area of the photo\")\n",
    "        pass\n",
    "    else:\n",
    "        print(\"Head of a person does not represent 20% to 50% of the area of the photo\")\n",
    "        return False\n",
    "\n",
    "    # enhance the image\n",
    "\n",
    "\n",
    "    # detect eyes\n",
    "    gray_image = cv2.cvtColor(img, cv2.COLOR_BGR2GRAY)\n",
    "    eye_classifier = cv2.CascadeClassifier(cv2.data.haarcascades + \"haarcascade_eye_tree_eyeglasses.xml\")\n",
    "    eyes = eye_classifier.detectMultiScale(gray_image)\n",
    "\n",
    "    # The eyes of a subject should be at the same level (with a max error of 5 pixels)\n",
    "    if len(eyes) == 2:\n",
    "        if abs(eyes[0][1] - eyes[1][1]) <= 5:\n",
    "            # print(\"The eyes of a subject are at the same level\")\n",
    "            pass\n",
    "        else:\n",
    "            print(\"The eyes of a subject are not at the same level \")\n",
    "            return False\n",
    "    else:\n",
    "        print(\"Eyes not detected on the image\")\n",
    "        return False\n",
    "\n",
    "    return True\n"
   ],
   "metadata": {
    "collapsed": false
   },
   "id": "ed56034aaf9215e9"
  },
  {
   "cell_type": "code",
   "outputs": [],
   "source": [
    "import pandas as pd\n",
    "\n",
    "testResults = pd.read_csv(\"test.csv\")\n",
    "\n",
    "# converst column label to bool type by True and False\n",
    "\n",
    "\n",
    "correct = 0\n",
    "\n",
    "# create dataframe to store the result of the test\n",
    "results = pd.DataFrame(columns=[\"path\", \"my_result\", \"label\"])\n",
    "\n",
    "\n",
    "for index, row in testResults.iterrows():\n",
    "    img = cv2.imread(row[\"new_path\"])\n",
    "    print(\"Processing image: \", row[\"new_path\"])\n",
    "    result = task3(img)\n",
    "    # add result to the dataframe\n",
    "    results.loc[index] = [row[\"new_path\"], result, row[\"label\"]]\n",
    "\n",
    "    if result == row[\"label\"]:\n",
    "        correct += 1\n",
    "\n",
    "print(correct)\n",
    "print(\"Accuracy: \", correct / len(testResults) * 100, \"%\")\n",
    "results.to_csv(\"results.csv\", index=False)\n",
    "\n",
    "\n",
    "\n",
    "\n",
    "\n",
    "k = cv2.waitKey(0)"
   ],
   "metadata": {
    "collapsed": false
   },
   "id": "9ac5091a83395bba"
  }
 ],
 "metadata": {
  "kernelspec": {
   "display_name": "Python 3",
   "language": "python",
   "name": "python3"
  },
  "language_info": {
   "codemirror_mode": {
    "name": "ipython",
    "version": 2
   },
   "file_extension": ".py",
   "mimetype": "text/x-python",
   "name": "python",
   "nbconvert_exporter": "python",
   "pygments_lexer": "ipython2",
   "version": "2.7.6"
  }
 },
 "nbformat": 4,
 "nbformat_minor": 5
}
